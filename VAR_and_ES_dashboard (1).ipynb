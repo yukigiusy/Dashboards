{
  "nbformat": 4,
  "nbformat_minor": 0,
  "metadata": {
    "colab": {
      "provenance": []
    },
    "kernelspec": {
      "name": "python3",
      "display_name": "Python 3"
    },
    "language_info": {
      "name": "python"
    }
  },
  "cells": [
    {
      "cell_type": "markdown",
      "source": [
        "#Dashboard for VAR and ES\n",
        "I have chosen to download 4 stocks: TSLA, AAPL, XOM and KO in order to construct a differentiated portfolio.\n",
        "\n",
        "The period of analysis is from 01-01-2020 to 29-08-205.\n",
        "\n",
        "I have calculated the returns and constructed a dataframe, useful for the dashboard."
      ],
      "metadata": {
        "id": "o58mvWDhR_Bg"
      }
    },
    {
      "cell_type": "code",
      "source": [
        "import yfinance as yf\n",
        "import pandas as pd\n",
        "import numpy as np\n",
        "import matplotlib.pyplot as plt\n",
        "import seaborn as sns\n",
        "\n",
        "TSLA= yf.download(\"TSLA\", start=\"2020-01-01\",end=\"2025-08-29\",multi_level_index=False)\n",
        "APPLE= yf.download(\"AAPL\", start=\"2020-01-01\",end=\"2025-08-29\",multi_level_index=False)\n",
        "XOM= yf.download(\"XOM\", start=\"2020-01-01\",end=\"2025-08-29\",multi_level_index=False)\n",
        "KO= yf.download(\"KO\", start=\"2020-01-01\",end=\"2025-08-29\",multi_level_index=False)"
      ],
      "metadata": {
        "colab": {
          "base_uri": "https://localhost:8080/"
        },
        "id": "v8oWt9m-bdI9",
        "outputId": "e10d2fd3-ac20-4491-c743-d04c0396618c"
      },
      "execution_count": 1,
      "outputs": [
        {
          "output_type": "stream",
          "name": "stderr",
          "text": [
            "/tmp/ipython-input-3368548178.py:7: FutureWarning: YF.download() has changed argument auto_adjust default to True\n",
            "  TSLA= yf.download(\"TSLA\", start=\"2020-01-01\",end=\"2025-08-29\",multi_level_index=False)\n",
            "[*********************100%***********************]  1 of 1 completed\n",
            "/tmp/ipython-input-3368548178.py:8: FutureWarning: YF.download() has changed argument auto_adjust default to True\n",
            "  APPLE= yf.download(\"AAPL\", start=\"2020-01-01\",end=\"2025-08-29\",multi_level_index=False)\n",
            "[*********************100%***********************]  1 of 1 completed\n",
            "/tmp/ipython-input-3368548178.py:9: FutureWarning: YF.download() has changed argument auto_adjust default to True\n",
            "  XOM= yf.download(\"XOM\", start=\"2020-01-01\",end=\"2025-08-29\",multi_level_index=False)\n",
            "[*********************100%***********************]  1 of 1 completed\n",
            "/tmp/ipython-input-3368548178.py:10: FutureWarning: YF.download() has changed argument auto_adjust default to True\n",
            "  KO= yf.download(\"KO\", start=\"2020-01-01\",end=\"2025-08-29\",multi_level_index=False)\n",
            "[*********************100%***********************]  1 of 1 completed\n"
          ]
        }
      ]
    },
    {
      "cell_type": "code",
      "source": [
        "TSLA[\"Returns\"]= TSLA[\"Close\"].pct_change()\n",
        "APPLE[\"Returns\"]= APPLE[\"Close\"].pct_change()\n",
        "XOM[\"Returns\"]= XOM[\"Close\"].pct_change()\n",
        "KO[\"Returns\"]= KO[\"Close\"].pct_change()"
      ],
      "metadata": {
        "id": "hoZaQ5eq5I-b"
      },
      "execution_count": 2,
      "outputs": []
    },
    {
      "cell_type": "code",
      "source": [
        "portfolio_returns_df = pd.DataFrame({\n",
        "    'TSLA': TSLA[\"Returns\"],\n",
        "    'APPLE': APPLE[\"Returns\"],\n",
        "    'XOM': XOM[\"Returns\"],\n",
        "    'KO': KO[\"Returns\"]\n",
        "}).ffill().dropna()"
      ],
      "metadata": {
        "id": "VvK7Fvjxt6SY"
      },
      "execution_count": 3,
      "outputs": []
    },
    {
      "cell_type": "markdown",
      "source": [
        "#Dashboard through Dash"
      ],
      "metadata": {
        "id": "rQWc65vVvSXI"
      }
    },
    {
      "cell_type": "code",
      "source": [
        "!pip install dash"
      ],
      "metadata": {
        "colab": {
          "base_uri": "https://localhost:8080/"
        },
        "id": "l578hi59cdkn",
        "outputId": "e50b611b-3641-4fb9-a0f6-28f00d0c93ad"
      },
      "execution_count": 4,
      "outputs": [
        {
          "output_type": "stream",
          "name": "stdout",
          "text": [
            "Collecting dash\n",
            "  Downloading dash-3.2.0-py3-none-any.whl.metadata (10 kB)\n",
            "Requirement already satisfied: Flask<3.2,>=1.0.4 in /usr/local/lib/python3.12/dist-packages (from dash) (3.1.2)\n",
            "Requirement already satisfied: Werkzeug<3.2 in /usr/local/lib/python3.12/dist-packages (from dash) (3.1.3)\n",
            "Requirement already satisfied: plotly>=5.0.0 in /usr/local/lib/python3.12/dist-packages (from dash) (5.24.1)\n",
            "Requirement already satisfied: importlib-metadata in /usr/local/lib/python3.12/dist-packages (from dash) (8.7.0)\n",
            "Requirement already satisfied: typing-extensions>=4.1.1 in /usr/local/lib/python3.12/dist-packages (from dash) (4.15.0)\n",
            "Requirement already satisfied: requests in /usr/local/lib/python3.12/dist-packages (from dash) (2.32.4)\n",
            "Collecting retrying (from dash)\n",
            "  Downloading retrying-1.4.2-py3-none-any.whl.metadata (5.5 kB)\n",
            "Requirement already satisfied: nest-asyncio in /usr/local/lib/python3.12/dist-packages (from dash) (1.6.0)\n",
            "Requirement already satisfied: setuptools in /usr/local/lib/python3.12/dist-packages (from dash) (75.2.0)\n",
            "Requirement already satisfied: blinker>=1.9.0 in /usr/local/lib/python3.12/dist-packages (from Flask<3.2,>=1.0.4->dash) (1.9.0)\n",
            "Requirement already satisfied: click>=8.1.3 in /usr/local/lib/python3.12/dist-packages (from Flask<3.2,>=1.0.4->dash) (8.2.1)\n",
            "Requirement already satisfied: itsdangerous>=2.2.0 in /usr/local/lib/python3.12/dist-packages (from Flask<3.2,>=1.0.4->dash) (2.2.0)\n",
            "Requirement already satisfied: jinja2>=3.1.2 in /usr/local/lib/python3.12/dist-packages (from Flask<3.2,>=1.0.4->dash) (3.1.6)\n",
            "Requirement already satisfied: markupsafe>=2.1.1 in /usr/local/lib/python3.12/dist-packages (from Flask<3.2,>=1.0.4->dash) (3.0.2)\n",
            "Requirement already satisfied: tenacity>=6.2.0 in /usr/local/lib/python3.12/dist-packages (from plotly>=5.0.0->dash) (8.5.0)\n",
            "Requirement already satisfied: packaging in /usr/local/lib/python3.12/dist-packages (from plotly>=5.0.0->dash) (25.0)\n",
            "Requirement already satisfied: zipp>=3.20 in /usr/local/lib/python3.12/dist-packages (from importlib-metadata->dash) (3.23.0)\n",
            "Requirement already satisfied: charset_normalizer<4,>=2 in /usr/local/lib/python3.12/dist-packages (from requests->dash) (3.4.3)\n",
            "Requirement already satisfied: idna<4,>=2.5 in /usr/local/lib/python3.12/dist-packages (from requests->dash) (3.10)\n",
            "Requirement already satisfied: urllib3<3,>=1.21.1 in /usr/local/lib/python3.12/dist-packages (from requests->dash) (2.5.0)\n",
            "Requirement already satisfied: certifi>=2017.4.17 in /usr/local/lib/python3.12/dist-packages (from requests->dash) (2025.8.3)\n",
            "Downloading dash-3.2.0-py3-none-any.whl (7.9 MB)\n",
            "\u001b[2K   \u001b[90m━━━━━━━━━━━━━━━━━━━━━━━━━━━━━━━━━━━━━━━━\u001b[0m \u001b[32m7.9/7.9 MB\u001b[0m \u001b[31m76.5 MB/s\u001b[0m eta \u001b[36m0:00:00\u001b[0m\n",
            "\u001b[?25hDownloading retrying-1.4.2-py3-none-any.whl (10 kB)\n",
            "Installing collected packages: retrying, dash\n",
            "Successfully installed dash-3.2.0 retrying-1.4.2\n"
          ]
        }
      ]
    },
    {
      "cell_type": "code",
      "source": [
        "!pip install dash-bootstrap-components"
      ],
      "metadata": {
        "colab": {
          "base_uri": "https://localhost:8080/"
        },
        "id": "JR8BpeBxxAtB",
        "outputId": "ae912016-d7f1-4352-a808-ba1f7204a822"
      },
      "execution_count": 5,
      "outputs": [
        {
          "output_type": "stream",
          "name": "stdout",
          "text": [
            "Collecting dash-bootstrap-components\n",
            "  Downloading dash_bootstrap_components-2.0.4-py3-none-any.whl.metadata (18 kB)\n",
            "Requirement already satisfied: dash>=3.0.4 in /usr/local/lib/python3.12/dist-packages (from dash-bootstrap-components) (3.2.0)\n",
            "Requirement already satisfied: Flask<3.2,>=1.0.4 in /usr/local/lib/python3.12/dist-packages (from dash>=3.0.4->dash-bootstrap-components) (3.1.2)\n",
            "Requirement already satisfied: Werkzeug<3.2 in /usr/local/lib/python3.12/dist-packages (from dash>=3.0.4->dash-bootstrap-components) (3.1.3)\n",
            "Requirement already satisfied: plotly>=5.0.0 in /usr/local/lib/python3.12/dist-packages (from dash>=3.0.4->dash-bootstrap-components) (5.24.1)\n",
            "Requirement already satisfied: importlib-metadata in /usr/local/lib/python3.12/dist-packages (from dash>=3.0.4->dash-bootstrap-components) (8.7.0)\n",
            "Requirement already satisfied: typing-extensions>=4.1.1 in /usr/local/lib/python3.12/dist-packages (from dash>=3.0.4->dash-bootstrap-components) (4.15.0)\n",
            "Requirement already satisfied: requests in /usr/local/lib/python3.12/dist-packages (from dash>=3.0.4->dash-bootstrap-components) (2.32.4)\n",
            "Requirement already satisfied: retrying in /usr/local/lib/python3.12/dist-packages (from dash>=3.0.4->dash-bootstrap-components) (1.4.2)\n",
            "Requirement already satisfied: nest-asyncio in /usr/local/lib/python3.12/dist-packages (from dash>=3.0.4->dash-bootstrap-components) (1.6.0)\n",
            "Requirement already satisfied: setuptools in /usr/local/lib/python3.12/dist-packages (from dash>=3.0.4->dash-bootstrap-components) (75.2.0)\n",
            "Requirement already satisfied: blinker>=1.9.0 in /usr/local/lib/python3.12/dist-packages (from Flask<3.2,>=1.0.4->dash>=3.0.4->dash-bootstrap-components) (1.9.0)\n",
            "Requirement already satisfied: click>=8.1.3 in /usr/local/lib/python3.12/dist-packages (from Flask<3.2,>=1.0.4->dash>=3.0.4->dash-bootstrap-components) (8.2.1)\n",
            "Requirement already satisfied: itsdangerous>=2.2.0 in /usr/local/lib/python3.12/dist-packages (from Flask<3.2,>=1.0.4->dash>=3.0.4->dash-bootstrap-components) (2.2.0)\n",
            "Requirement already satisfied: jinja2>=3.1.2 in /usr/local/lib/python3.12/dist-packages (from Flask<3.2,>=1.0.4->dash>=3.0.4->dash-bootstrap-components) (3.1.6)\n",
            "Requirement already satisfied: markupsafe>=2.1.1 in /usr/local/lib/python3.12/dist-packages (from Flask<3.2,>=1.0.4->dash>=3.0.4->dash-bootstrap-components) (3.0.2)\n",
            "Requirement already satisfied: tenacity>=6.2.0 in /usr/local/lib/python3.12/dist-packages (from plotly>=5.0.0->dash>=3.0.4->dash-bootstrap-components) (8.5.0)\n",
            "Requirement already satisfied: packaging in /usr/local/lib/python3.12/dist-packages (from plotly>=5.0.0->dash>=3.0.4->dash-bootstrap-components) (25.0)\n",
            "Requirement already satisfied: zipp>=3.20 in /usr/local/lib/python3.12/dist-packages (from importlib-metadata->dash>=3.0.4->dash-bootstrap-components) (3.23.0)\n",
            "Requirement already satisfied: charset_normalizer<4,>=2 in /usr/local/lib/python3.12/dist-packages (from requests->dash>=3.0.4->dash-bootstrap-components) (3.4.3)\n",
            "Requirement already satisfied: idna<4,>=2.5 in /usr/local/lib/python3.12/dist-packages (from requests->dash>=3.0.4->dash-bootstrap-components) (3.10)\n",
            "Requirement already satisfied: urllib3<3,>=1.21.1 in /usr/local/lib/python3.12/dist-packages (from requests->dash>=3.0.4->dash-bootstrap-components) (2.5.0)\n",
            "Requirement already satisfied: certifi>=2017.4.17 in /usr/local/lib/python3.12/dist-packages (from requests->dash>=3.0.4->dash-bootstrap-components) (2025.8.3)\n",
            "Downloading dash_bootstrap_components-2.0.4-py3-none-any.whl (204 kB)\n",
            "\u001b[2K   \u001b[90m━━━━━━━━━━━━━━━━━━━━━━━━━━━━━━━━━━━━━━━━\u001b[0m \u001b[32m204.0/204.0 kB\u001b[0m \u001b[31m5.9 MB/s\u001b[0m eta \u001b[36m0:00:00\u001b[0m\n",
            "\u001b[?25hInstalling collected packages: dash-bootstrap-components\n",
            "Successfully installed dash-bootstrap-components-2.0.4\n"
          ]
        }
      ]
    },
    {
      "cell_type": "code",
      "source": [
        "!pip install dash pyngrok"
      ],
      "metadata": {
        "colab": {
          "base_uri": "https://localhost:8080/"
        },
        "id": "LgcZjbhgFMnT",
        "outputId": "02654b39-8859-47e3-e3fb-f6fa5d46f0ca"
      },
      "execution_count": 6,
      "outputs": [
        {
          "output_type": "stream",
          "name": "stdout",
          "text": [
            "Requirement already satisfied: dash in /usr/local/lib/python3.12/dist-packages (3.2.0)\n",
            "Collecting pyngrok\n",
            "  Downloading pyngrok-7.3.0-py3-none-any.whl.metadata (8.1 kB)\n",
            "Requirement already satisfied: Flask<3.2,>=1.0.4 in /usr/local/lib/python3.12/dist-packages (from dash) (3.1.2)\n",
            "Requirement already satisfied: Werkzeug<3.2 in /usr/local/lib/python3.12/dist-packages (from dash) (3.1.3)\n",
            "Requirement already satisfied: plotly>=5.0.0 in /usr/local/lib/python3.12/dist-packages (from dash) (5.24.1)\n",
            "Requirement already satisfied: importlib-metadata in /usr/local/lib/python3.12/dist-packages (from dash) (8.7.0)\n",
            "Requirement already satisfied: typing-extensions>=4.1.1 in /usr/local/lib/python3.12/dist-packages (from dash) (4.15.0)\n",
            "Requirement already satisfied: requests in /usr/local/lib/python3.12/dist-packages (from dash) (2.32.4)\n",
            "Requirement already satisfied: retrying in /usr/local/lib/python3.12/dist-packages (from dash) (1.4.2)\n",
            "Requirement already satisfied: nest-asyncio in /usr/local/lib/python3.12/dist-packages (from dash) (1.6.0)\n",
            "Requirement already satisfied: setuptools in /usr/local/lib/python3.12/dist-packages (from dash) (75.2.0)\n",
            "Requirement already satisfied: PyYAML>=5.1 in /usr/local/lib/python3.12/dist-packages (from pyngrok) (6.0.2)\n",
            "Requirement already satisfied: blinker>=1.9.0 in /usr/local/lib/python3.12/dist-packages (from Flask<3.2,>=1.0.4->dash) (1.9.0)\n",
            "Requirement already satisfied: click>=8.1.3 in /usr/local/lib/python3.12/dist-packages (from Flask<3.2,>=1.0.4->dash) (8.2.1)\n",
            "Requirement already satisfied: itsdangerous>=2.2.0 in /usr/local/lib/python3.12/dist-packages (from Flask<3.2,>=1.0.4->dash) (2.2.0)\n",
            "Requirement already satisfied: jinja2>=3.1.2 in /usr/local/lib/python3.12/dist-packages (from Flask<3.2,>=1.0.4->dash) (3.1.6)\n",
            "Requirement already satisfied: markupsafe>=2.1.1 in /usr/local/lib/python3.12/dist-packages (from Flask<3.2,>=1.0.4->dash) (3.0.2)\n",
            "Requirement already satisfied: tenacity>=6.2.0 in /usr/local/lib/python3.12/dist-packages (from plotly>=5.0.0->dash) (8.5.0)\n",
            "Requirement already satisfied: packaging in /usr/local/lib/python3.12/dist-packages (from plotly>=5.0.0->dash) (25.0)\n",
            "Requirement already satisfied: zipp>=3.20 in /usr/local/lib/python3.12/dist-packages (from importlib-metadata->dash) (3.23.0)\n",
            "Requirement already satisfied: charset_normalizer<4,>=2 in /usr/local/lib/python3.12/dist-packages (from requests->dash) (3.4.3)\n",
            "Requirement already satisfied: idna<4,>=2.5 in /usr/local/lib/python3.12/dist-packages (from requests->dash) (3.10)\n",
            "Requirement already satisfied: urllib3<3,>=1.21.1 in /usr/local/lib/python3.12/dist-packages (from requests->dash) (2.5.0)\n",
            "Requirement already satisfied: certifi>=2017.4.17 in /usr/local/lib/python3.12/dist-packages (from requests->dash) (2025.8.3)\n",
            "Downloading pyngrok-7.3.0-py3-none-any.whl (25 kB)\n",
            "Installing collected packages: pyngrok\n",
            "Successfully installed pyngrok-7.3.0\n"
          ]
        }
      ]
    },
    {
      "cell_type": "code",
      "source": [
        "import dash\n",
        "from dash import Dash, html, dash_table, dcc, callback, Output, Input\n",
        "import plotly.express as px\n",
        "import dash_bootstrap_components as dbc"
      ],
      "metadata": {
        "id": "iWl-IDgBcgek"
      },
      "execution_count": 7,
      "outputs": []
    },
    {
      "cell_type": "markdown",
      "source": [
        "The dashboard has been created using **Dash** and **Dash Bootstrap Components**.\n",
        "\n",
        "* **`Row` and `Col`** allow us to organize the layout into rows and columns. They can take arguments like `style` and `width`.\n",
        "* **`Dropdown`** is a component of the Dash layout. It creates a dropdown menu where we can choose between different stocks. With the `multi` option we can select one or more stocks at the same time. The arguments `id` and `value` are important because they are used in the callback.\n",
        "* **`InputGroup`** is used for entering values or text. In this case, we input the confidence level, holding period, investment, and portfolio weights. Again, `id` and `value` are essential for linking inputs to the callback.\n",
        "* **`Graph`** is used to display the plots generated by the functions.\n",
        "* **`DataTable`** shows the returns of each stock. The data is extracted from the DataFrame and displayed with custom styling.\n",
        "* **`risk_metrics`** is a container that displays the results of the VaR and ES calculations, assuming a Gaussian distribution.\n",
        "* **Callbacks** define the inputs and outputs. They specify which inputs should trigger updates to the outputs. In this case, the inputs are the selected stocks, holding period, confidence level, investment, and weights. The outputs include the tables, risk metrics, and plots. This allows us to construct different portfolios and see updated VaR, ES, and figures dynamically.\n",
        "* The final function, **`update_output`**, plots the time series of returns and the histogram of portfolio returns, highlighting the VaR and ES. It returns the updated tables, figures, and a text summary of VaR and ES (also expressed in USD).\n"
      ],
      "metadata": {
        "id": "ygdXChNAUbTU"
      }
    },
    {
      "cell_type": "code",
      "source": [
        "app = Dash(__name__, external_stylesheets=[dbc.themes.CYBORG])\n",
        "app.layout = dbc.Container([\n",
        "\n",
        "    # Title\n",
        "    dbc.Row([\n",
        "        dbc.Col(html.H1(\"📊 Portfolio Risk Dashboard\",\n",
        "                        style={'textAlign': 'center'}), width=12)\n",
        "    ], className=\"mb-4\"),\n",
        "\n",
        "    # Inputs row with labels\n",
        "    dbc.Row([\n",
        "        dbc.Col(dcc.Dropdown(\n",
        "            ['TSLA', 'APPLE', 'XOM', 'KO'],\n",
        "            multi=True, id='items',\n",
        "            value=['TSLA', 'APPLE', 'XOM', 'KO']), width=4),\n",
        "\n",
        "        dbc.Col([\n",
        "            dbc.InputGroup([\n",
        "                dbc.InputGroupText(\"Holding Period\"),\n",
        "                dbc.Input(id=\"period\", type=\"number\", value=1)\n",
        "            ], className=\"mb-2\"),\n",
        "\n",
        "            dbc.InputGroup([\n",
        "                dbc.InputGroupText(\"Confidence Level\"),\n",
        "                dbc.Input(id=\"level\", type=\"number\", value=0.95, step=0.01)\n",
        "            ], className=\"mb-2\"),\n",
        "\n",
        "            dbc.InputGroup([\n",
        "                dbc.InputGroupText(\"Investment\"),\n",
        "                dbc.Input(id=\"investment\", type=\"number\", value=1000, step=1)\n",
        "            ], className=\"mb-2\"),\n",
        "        ], width=3),\n",
        "\n",
        "\n",
        "        dbc.Col([\n",
        "            dbc.InputGroup([dbc.InputGroupText(\"Weight A\"), dbc.Input(id=\"weight A\", type=\"number\", value=0.25)]),\n",
        "            dbc.InputGroup([dbc.InputGroupText(\"Weight B\"), dbc.Input(id=\"weight B\", type=\"number\", value=0.25)]),\n",
        "            dbc.InputGroup([dbc.InputGroupText(\"Weight C\"), dbc.Input(id=\"weight C\", type=\"number\", value=0.25)]),\n",
        "            dbc.InputGroup([dbc.InputGroupText(\"Weight D\"), dbc.Input(id=\"weight D\", type=\"number\", value=0.25)])\n",
        "        ], width=5),\n",
        "    ], className=\"mb-4\"),\n",
        "\n",
        "    # Graphs row\n",
        "    dbc.Row([\n",
        "        dbc.Col(dcc.Graph(id='controls'), width=6),\n",
        "        dbc.Col(dcc.Graph(id='controls 2'), width=6),\n",
        "    ], className=\"mb-4\"),\n",
        "\n",
        "    # Risk metrics row\n",
        "    dbc.Row([\n",
        "        dbc.Col(html.Div(id=\"risk_metrics\",\n",
        "                         style={'textAlign': 'center', 'fontSize': 20}), width=12)\n",
        "    ], className=\"mb-4\"),\n",
        "\n",
        "    # DataTables row with custom styling\n",
        "    dbc.Row([\n",
        "        dbc.Col(dash_table.DataTable(id=\"apple\", page_size=10,\n",
        "                                     style_table={'overflowX': 'auto'},\n",
        "                                     style_header={'backgroundColor': '#1f2c56','color': 'white','fontWeight': 'bold','textAlign': 'center'},\n",
        "                                     style_cell={'backgroundColor': '#0e1117','color': 'white','textAlign': 'center','padding': '8px'},\n",
        "                                     style_data_conditional=[\n",
        "                                         {'if': {'row_index': 'odd'}, 'backgroundColor': '#1a1d23'},\n",
        "                                         {'if': {'state': 'active'}, 'backgroundColor': '#2a3f5f','border': '1px solid white'}\n",
        "                                     ]), width=3),\n",
        "\n",
        "        dbc.Col(dash_table.DataTable(id=\"tsla\", page_size=10, style_table={'overflowX': 'auto'},\n",
        "                                     style_header={'backgroundColor': '#1f2c56','color': 'white','fontWeight': 'bold','textAlign': 'center'},\n",
        "                                     style_cell={'backgroundColor': '#0e1117','color': 'white','textAlign': 'center','padding': '8px'},\n",
        "                                     style_data_conditional=[\n",
        "                                         {'if': {'row_index': 'odd'}, 'backgroundColor': '#1a1d23'},\n",
        "                                         {'if': {'state': 'active'}, 'backgroundColor': '#2a3f5f','border': '1px solid white'}\n",
        "                                     ]), width=3),\n",
        "\n",
        "        dbc.Col(dash_table.DataTable(id=\"xom\", page_size=10, style_table={'overflowX': 'auto'},\n",
        "                                     style_header={'backgroundColor': '#1f2c56','color': 'white','fontWeight': 'bold','textAlign': 'center'},\n",
        "                                     style_cell={'backgroundColor': '#0e1117','color': 'white','textAlign': 'center','padding': '8px'},\n",
        "                                     style_data_conditional=[\n",
        "                                         {'if': {'row_index': 'odd'}, 'backgroundColor': '#1a1d23'},\n",
        "                                         {'if': {'state': 'active'}, 'backgroundColor': '#2a3f5f','border': '1px solid white'}\n",
        "                                     ]), width=3),\n",
        "\n",
        "        dbc.Col(dash_table.DataTable(id=\"ko\", page_size=10, style_table={'overflowX': 'auto'},\n",
        "                                     style_header={'backgroundColor': '#1f2c56','color': 'white','fontWeight': 'bold','textAlign': 'center'},\n",
        "                                     style_cell={'backgroundColor': '#0e1117','color': 'white','textAlign': 'center','padding': '8px'},\n",
        "                                     style_data_conditional=[\n",
        "                                         {'if': {'row_index': 'odd'}, 'backgroundColor': '#1a1d23'},\n",
        "                                         {'if': {'state': 'active'}, 'backgroundColor': '#2a3f5f','border': '1px solid white'}\n",
        "                                     ]), width=3),\n",
        "], )\n",
        "    ])\n",
        "\n",
        "\n",
        "\n",
        "def calculate_var(portfolio_ret, weight_A, weight_B, weight_C, weight_D, confidence_level, holding_period):\n",
        "    \"\"\"\n",
        "    Compute Value-at-Risk (VaR) and Expected Shortfall (ES).\n",
        "    \"\"\"\n",
        "\n",
        "    # Value at Risk\n",
        "    var = np.percentile(portfolio_ret, (1 - confidence_level) * 100) * np.sqrt(holding_period)\n",
        "\n",
        "    # Expected Shortfall\n",
        "    worst_returns = portfolio_ret[portfolio_ret < var]\n",
        "    es = worst_returns.mean() * np.sqrt(holding_period) if not worst_returns.empty else np.nan\n",
        "\n",
        "    return var, es\n",
        "\n",
        "\n",
        "@callback(\n",
        "    Output('apple', 'data'),\n",
        "    Output('tsla', 'data'),\n",
        "    Output('xom', 'data'),\n",
        "    Output('ko', 'data'),\n",
        "    Output('controls', 'figure'),\n",
        "    Output('controls 2', 'figure'),\n",
        "    Output('risk_metrics', 'children'),\n",
        "    Input('items', 'value'),\n",
        "    Input('period', 'value'),\n",
        "    Input('level', 'value'),\n",
        "    Input('weight A', 'value'),\n",
        "    Input('weight B', 'value'),\n",
        "    Input('weight C', 'value'),\n",
        "    Input('weight D', 'value'),\n",
        "    Input('investment', 'value'),\n",
        ")\n",
        "def update_output(col_chosen, holding_period, confidence_level,\n",
        "                  weight_A, weight_B, weight_C, weight_D, investment):\n",
        "    '''thanks to col_chosen we can filter the df for selecting\n",
        "    the stocks we want to plot and thanks which we construct\n",
        "    the portfolio'''\n",
        "\n",
        "    filtered_df = portfolio_returns_df[col_chosen]\n",
        "\n",
        "    # Normalize weights\n",
        "    weights = np.array([weight_A, weight_B, weight_C, weight_D], dtype=float)\n",
        "    if weights.sum() == 0:\n",
        "        weights = np.ones(4) / 4  # fallback equal weights\n",
        "    else:\n",
        "        weights = weights / weights.sum()\n",
        "    weight_A, weight_B, weight_C, weight_D = weights\n",
        "\n",
        "    # Line chart of chosen assets\n",
        "    fig = px.line(filtered_df, y=col_chosen)\n",
        "\n",
        "    # Update tables only for selected assets\n",
        "    apple_data = filtered_df[['APPLE']].to_dict('records') if 'APPLE' in col_chosen else []\n",
        "    tsla_data = filtered_df[['TSLA']].to_dict('records') if 'TSLA' in col_chosen else []\n",
        "    xom_data = filtered_df[['XOM']].to_dict('records') if 'XOM' in col_chosen else []\n",
        "    ko_data = filtered_df[['KO']].to_dict('records') if 'KO' in col_chosen else []\n",
        "\n",
        "    # Portfolio returns (using .get to avoid KeyError)\n",
        "    portfolio_ret = (\n",
        "        weight_A * filtered_df.get('APPLE', 0) +\n",
        "        weight_B * filtered_df.get('TSLA', 0) +\n",
        "        weight_C * filtered_df.get('XOM', 0) +\n",
        "        weight_D * filtered_df.get('KO', 0)\n",
        "    )\n",
        "\n",
        "    # Histogram of portfolio returns\n",
        "    fig2 = px.histogram(portfolio_ret, nbins=50, color_discrete_sequence=[\"red\"])\n",
        "\n",
        "    # Risk metrics\n",
        "    if holding_period and confidence_level and len(col_chosen) > 0:\n",
        "        var, es = calculate_var(portfolio_ret, weight_A, weight_B, weight_C, weight_D,\n",
        "                                confidence_level, holding_period)\n",
        "        var_usd = var * investment\n",
        "        es_usd = es * investment\n",
        "        metrics_text = (\n",
        "            f\"📉 Value-at-Risk (VaR): {var:.4f} | \"\n",
        "            f\"⚠️ Expected Shortfall (ES): {es:.4f} | \"\n",
        "            f\"(Weights normalized: {weights.round(2)})\"\n",
        "            f\"📉 Value-at-Risk (VaR) in $: {var_usd:.4f} | \"\n",
        "            f\"⚠️ Expected Shortfall (ES) in $: {es_usd:.4f} | \"\n",
        "            f\"(Weights normalized: {weights.round(2)})\"\n",
        "        )\n",
        "    else:\n",
        "        metrics_text = \"Please select assets and provide valid inputs.\"\n",
        "\n",
        "    fig2.add_vline(x=var, line_color=\"blue\", line_dash=\"dash\",\n",
        "                   annotation_text=f\"VaR {var:.4f}\", annotation_position=\"top left\")\n",
        "    fig2.add_vline(x=es, line_color=\"green\", line_dash=\"dot\",\n",
        "                   annotation_text=f\"ES {es:.4f}\", annotation_position=\"top left\")\n",
        "\n",
        "\n",
        "    return apple_data, tsla_data, xom_data, ko_data, fig, fig2, metrics_text\n",
        "# Run the app\n",
        "if __name__ == '__main__':\n",
        "  app.run(debug=True)"
      ],
      "metadata": {
        "colab": {
          "base_uri": "https://localhost:8080/",
          "height": 671
        },
        "id": "fJEsrLMIPMy7",
        "outputId": "0e8d9642-9e6a-48d4-ebbf-f93e6dcffe53"
      },
      "execution_count": 14,
      "outputs": [
        {
          "output_type": "display_data",
          "data": {
            "text/plain": [
              "<IPython.core.display.Javascript object>"
            ],
            "application/javascript": [
              "(async (port, path, width, height, cache, element) => {\n",
              "    if (!google.colab.kernel.accessAllowed && !cache) {\n",
              "      return;\n",
              "    }\n",
              "    element.appendChild(document.createTextNode(''));\n",
              "    const url = await google.colab.kernel.proxyPort(port, {cache});\n",
              "    const iframe = document.createElement('iframe');\n",
              "    iframe.src = new URL(path, url).toString();\n",
              "    iframe.height = height;\n",
              "    iframe.width = width;\n",
              "    iframe.style.border = 0;\n",
              "    iframe.allow = [\n",
              "        'accelerometer',\n",
              "        'autoplay',\n",
              "        'camera',\n",
              "        'clipboard-read',\n",
              "        'clipboard-write',\n",
              "        'gyroscope',\n",
              "        'magnetometer',\n",
              "        'microphone',\n",
              "        'serial',\n",
              "        'usb',\n",
              "        'xr-spatial-tracking',\n",
              "    ].join('; ');\n",
              "    element.appendChild(iframe);\n",
              "  })(8050, \"/\", \"100%\", 650, false, window.element)"
            ]
          },
          "metadata": {}
        }
      ]
    },
    {
      "cell_type": "code",
      "source": [
        "from pyngrok import ngrok\n",
        "\n",
        "# Expose Dash server on port 8050\n",
        "public_url = ngrok.connect(8050)\n",
        "print(\"Your dashboard is live at:\", public_url)\n",
        "\n",
        "!python app.py\n"
      ],
      "metadata": {
        "colab": {
          "base_uri": "https://localhost:8080/"
        },
        "id": "tXUdpKx7FXzC",
        "outputId": "43ec9971-aebb-48de-93cd-d593beec6a25"
      },
      "execution_count": 16,
      "outputs": [
        {
          "output_type": "stream",
          "name": "stdout",
          "text": [
            "Your dashboard is live at: NgrokTunnel: \"https://518279d1c2d8.ngrok-free.app\" -> \"http://localhost:8050\"\n",
            "python3: can't open file '/content/app.py': [Errno 2] No such file or directory\n"
          ]
        }
      ]
    }
  ]
}